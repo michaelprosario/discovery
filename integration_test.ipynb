{
 "cells": [
  {
   "cell_type": "markdown",
   "metadata": {},
   "source": [
    "# Integration Test for Discovery FastAPI Server\n",
    "\n",
    "This notebook demonstrates integration testing of the Discovery API using the `requests` library.\n",
    "\n",
    "**Prerequisites:**\n",
    "- FastAPI server must be running (e.g., `uvicorn src.api.main:app --reload`)\n",
    "- Database must be initialized and running\n",
    "\n",
    "## Overview\n",
    "\n",
    "This notebook will:\n",
    "1. Create a new notebook via POST request\n",
    "2. Add a source (URL) to the notebook via POST request\n",
    "3. Verify the operations using GET requests\n",
    "4. Demonstrate the complete workflow\n"
   ]
  },
  {
   "cell_type": "code",
   "execution_count": null,
   "metadata": {},
   "outputs": [],
   "source": [
    "import requests\n",
    "import json\n",
    "from datetime import datetime\n",
    "\n",
    "# Configuration\n",
    "BASE_URL = \"http://localhost:8000\"\n",
    "API_URL = f\"{BASE_URL}/api\"\n",
    "\n",
    "print(f\"Testing API at: {BASE_URL}\")"
   ]
  },
  {
   "cell_type": "markdown",
   "metadata": {},
   "source": [
    "## Step 1: Health Check\n",
    "\n",
    "First, let's verify the server is running."
   ]
  },
  {
   "cell_type": "code",
   "execution_count": null,
   "metadata": {},
   "outputs": [],
   "source": [
    "# Test health endpoint\n",
    "response = requests.get(f\"{BASE_URL}/health\")\n",
    "print(f\"Status Code: {response.status_code}\")\n",
    "print(f\"Response: {response.json()}\")\n",
    "\n",
    "assert response.status_code == 200, \"Server is not healthy!\"\n",
    "assert response.json()[\"status\"] == \"healthy\", \"Health check failed!\"\n",
    "print(\"\\n✅ Server is healthy and running!\")"
   ]
  },
  {
   "cell_type": "markdown",
   "metadata": {},
   "source": [
    "## Step 2: Create a New Notebook (POST)\n",
    "\n",
    "Let's create a new notebook using a POST request."
   ]
  },
  {
   "cell_type": "code",
   "execution_count": null,
   "metadata": {},
   "outputs": [],
   "source": [
    "# Create a new notebook\n",
    "notebook_data = {\n",
    "    \"name\": f\"Integration Test Notebook {datetime.now().strftime('%Y-%m-%d %H:%M:%S')}\",\n",
    "    \"description\": \"This notebook was created by the integration test\",\n",
    "    \"tags\": [\"integration-test\", \"automation\"]\n",
    "}\n",
    "\n",
    "response = requests.post(f\"{API_URL}/notebooks\", json=notebook_data)\n",
    "print(f\"Status Code: {response.status_code}\")\n",
    "print(f\"Response: {json.dumps(response.json(), indent=2)}\")\n",
    "\n",
    "assert response.status_code == 201, f\"Failed to create notebook: {response.text}\"\n",
    "\n",
    "# Save the notebook ID for later use\n",
    "notebook_id = response.json()[\"id\"]\n",
    "print(f\"\\n✅ Successfully created notebook with ID: {notebook_id}\")"
   ]
  },
  {
   "cell_type": "markdown",
   "metadata": {},
   "source": [
    "## Step 3: Verify Notebook Creation (GET)\n",
    "\n",
    "Now let's retrieve the notebook we just created to verify it was stored correctly."
   ]
  },
  {
   "cell_type": "code",
   "execution_count": null,
   "metadata": {},
   "outputs": [],
   "source": [
    "# Get the notebook by ID\n",
    "response = requests.get(f\"{API_URL}/notebooks/{notebook_id}\")\n",
    "print(f\"Status Code: {response.status_code}\")\n",
    "print(f\"Response: {json.dumps(response.json(), indent=2)}\")\n",
    "\n",
    "assert response.status_code == 200, f\"Failed to retrieve notebook: {response.text}\"\n",
    "\n",
    "notebook = response.json()\n",
    "assert notebook[\"id\"] == notebook_id, \"Notebook ID mismatch!\"\n",
    "assert notebook[\"name\"] == notebook_data[\"name\"], \"Notebook name mismatch!\"\n",
    "assert notebook[\"description\"] == notebook_data[\"description\"], \"Notebook description mismatch!\"\n",
    "assert set(notebook[\"tags\"]) == set(notebook_data[\"tags\"]), \"Notebook tags mismatch!\"\n",
    "\n",
    "print(f\"\\n✅ Successfully retrieved notebook: {notebook['name']}\")\n",
    "print(f\"   - Created at: {notebook['created_at']}\")\n",
    "print(f\"   - Source count: {notebook['source_count']}\")\n",
    "print(f\"   - Tags: {', '.join(notebook['tags'])}\")"
   ]
  },
  {
   "cell_type": "markdown",
   "metadata": {},
   "source": [
    "## Step 4: List All Notebooks (GET)\n",
    "\n",
    "Let's verify the notebook appears in the list of all notebooks."
   ]
  },
  {
   "cell_type": "code",
   "execution_count": null,
   "metadata": {},
   "outputs": [],
   "source": [
    "# List all notebooks\n",
    "response = requests.get(f\"{API_URL}/notebooks\")\n",
    "print(f\"Status Code: {response.status_code}\")\n",
    "\n",
    "assert response.status_code == 200, f\"Failed to list notebooks: {response.text}\"\n",
    "\n",
    "notebooks_list = response.json()\n",
    "print(f\"Total notebooks: {notebooks_list['total']}\")\n",
    "\n",
    "# Find our notebook in the list\n",
    "our_notebook = None\n",
    "for nb in notebooks_list['notebooks']:\n",
    "    if nb['id'] == notebook_id:\n",
    "        our_notebook = nb\n",
    "        break\n",
    "\n",
    "assert our_notebook is not None, \"Created notebook not found in list!\"\n",
    "print(f\"\\n✅ Found our notebook in the list!\")\n",
    "print(f\"   Position: {notebooks_list['notebooks'].index(our_notebook) + 1} of {notebooks_list['total']}\")"
   ]
  },
  {
   "cell_type": "markdown",
   "metadata": {},
   "source": [
    "## Step 5: Add a URL Source to the Notebook (POST)\n",
    "\n",
    "Now let's add a URL source to the notebook. Note: This will attempt to fetch content from the URL."
   ]
  },
  {
   "cell_type": "code",
   "execution_count": null,
   "metadata": {},
   "outputs": [],
   "source": [
    "# Add a URL source (using a simple example URL)\n",
    "source_data = {\n",
    "    \"notebook_id\": notebook_id,\n",
    "    \"url\": \"https://example.com\",\n",
    "    \"title\": \"Example Website\"\n",
    "}\n",
    "\n",
    "response = requests.post(f\"{API_URL}/sources/url\", json=source_data)\n",
    "print(f\"Status Code: {response.status_code}\")\n",
    "\n",
    "# The actual response will depend on whether the web fetch provider is working\n",
    "# In a test environment, this might fail, so we'll handle both cases\n",
    "if response.status_code == 201:\n",
    "    print(f\"Response: {json.dumps(response.json(), indent=2)}\")\n",
    "    source_id = response.json()[\"id\"]\n",
    "    print(f\"\\n✅ Successfully created source with ID: {source_id}\")\n",
    "else:\n",
    "    print(f\"Response: {response.text}\")\n",
    "    print(f\"\\n⚠️ Source creation returned status {response.status_code}\")\n",
    "    print(\"This may be expected if the web fetch provider is not configured.\")\n",
    "    source_id = None"
   ]
  },
  {
   "cell_type": "markdown",
   "metadata": {},
   "source": [
    "## Step 6: Verify Source Addition (GET)\n",
    "\n",
    "If the source was created successfully, let's retrieve it to verify."
   ]
  },
  {
   "cell_type": "code",
   "execution_count": null,
   "metadata": {},
   "outputs": [],
   "source": [
    "if source_id:\n",
    "    # Get the source by ID\n",
    "    response = requests.get(f\"{API_URL}/sources/{source_id}\")\n",
    "    print(f\"Status Code: {response.status_code}\")\n",
    "    print(f\"Response: {json.dumps(response.json(), indent=2)}\")\n",
    "    \n",
    "    assert response.status_code == 200, f\"Failed to retrieve source: {response.text}\"\n",
    "    \n",
    "    source = response.json()\n",
    "    assert source[\"id\"] == source_id, \"Source ID mismatch!\"\n",
    "    assert source[\"notebook_id\"] == notebook_id, \"Notebook ID mismatch!\"\n",
    "    assert source[\"source_type\"] == \"url\", \"Source type should be 'url'!\"\n",
    "    \n",
    "    print(f\"\\n✅ Successfully retrieved source: {source['name']}\")\n",
    "    print(f\"   - URL: {source['url']}\")\n",
    "    print(f\"   - Created at: {source['created_at']}\")\n",
    "else:\n",
    "    print(\"⚠️ Skipping source verification as source was not created.\")"
   ]
  },
  {
   "cell_type": "markdown",
   "metadata": {},
   "source": [
    "## Step 7: List Sources for the Notebook (GET)\n",
    "\n",
    "Let's verify the source appears in the list of sources for our notebook."
   ]
  },
  {
   "cell_type": "code",
   "execution_count": null,
   "metadata": {},
   "outputs": [],
   "source": [
    "# List all sources for the notebook\n",
    "response = requests.get(f\"{API_URL}/sources/notebook/{notebook_id}\")\n",
    "print(f\"Status Code: {response.status_code}\")\n",
    "\n",
    "assert response.status_code == 200, f\"Failed to list sources: {response.text}\"\n",
    "\n",
    "sources_list = response.json()\n",
    "print(f\"Response: {json.dumps(sources_list, indent=2)}\")\n",
    "print(f\"\\nTotal sources in notebook: {sources_list['total']}\")\n",
    "\n",
    "if source_id:\n",
    "    # Find our source in the list\n",
    "    our_source = None\n",
    "    for src in sources_list['sources']:\n",
    "        if src['id'] == source_id:\n",
    "            our_source = src\n",
    "            break\n",
    "    \n",
    "    assert our_source is not None, \"Created source not found in list!\"\n",
    "    print(f\"\\n✅ Found our source in the notebook's source list!\")\n",
    "else:\n",
    "    print(f\"\\n✅ Sources list retrieved (no sources expected if creation failed)\")"
   ]
  },
  {
   "cell_type": "markdown",
   "metadata": {},
   "source": [
    "## Step 8: Verify Notebook Update\n",
    "\n",
    "Let's get the notebook again to verify the source count increased."
   ]
  },
  {
   "cell_type": "code",
   "execution_count": null,
   "metadata": {},
   "outputs": [],
   "source": [
    "# Get the notebook again to verify source count\n",
    "response = requests.get(f\"{API_URL}/notebooks/{notebook_id}\")\n",
    "print(f\"Status Code: {response.status_code}\")\n",
    "\n",
    "assert response.status_code == 200, f\"Failed to retrieve notebook: {response.text}\"\n",
    "\n",
    "updated_notebook = response.json()\n",
    "print(f\"Updated source count: {updated_notebook['source_count']}\")\n",
    "\n",
    "if source_id:\n",
    "    assert updated_notebook['source_count'] >= 1, \"Source count should be at least 1!\"\n",
    "    print(f\"\\n✅ Notebook source count updated correctly!\")\n",
    "else:\n",
    "    print(f\"\\n✅ Notebook retrieved (source count: {updated_notebook['source_count']})\")"
   ]
  },
  {
   "cell_type": "markdown",
   "metadata": {},
   "source": [
    "## Summary\n",
    "\n",
    "This notebook demonstrated the complete integration test workflow:\n",
    "\n",
    "1. ✅ **Health Check** - Verified server is running\n",
    "2. ✅ **Create Notebook (POST)** - Created a new notebook\n",
    "3. ✅ **Retrieve Notebook (GET)** - Verified notebook was created correctly\n",
    "4. ✅ **List Notebooks (GET)** - Verified notebook appears in the list\n",
    "5. ⚠️ **Add Source (POST)** - Attempted to add a URL source (may fail without proper configuration)\n",
    "6. ⚠️ **Retrieve Source (GET)** - Verified source if created\n",
    "7. ✅ **List Sources (GET)** - Retrieved all sources for the notebook\n",
    "8. ✅ **Verify Update (GET)** - Confirmed notebook reflects the changes\n",
    "\n",
    "### Key Findings:\n",
    "\n",
    "- POST requests successfully create resources\n",
    "- GET requests can retrieve individual resources by ID\n",
    "- GET requests can list all resources\n",
    "- The API correctly maintains relationships between notebooks and sources\n",
    "- Changes are immediately visible in subsequent GET requests\n",
    "\n",
    "### Cleanup Note:\n",
    "\n",
    "To clean up the test notebook created during this test, you can:\n",
    "1. Use the DELETE endpoint: `DELETE /api/notebooks/{notebook_id}?cascade=true`\n",
    "2. Or manually delete from the database"
   ]
  },
  {
   "cell_type": "code",
   "execution_count": null,
   "metadata": {},
   "outputs": [],
   "source": [
    "# Optional: Clean up by deleting the test notebook\n",
    "# Uncomment the following lines to delete the notebook after testing\n",
    "\n",
    "# response = requests.delete(f\"{API_URL}/notebooks/{notebook_id}?cascade=true\")\n",
    "# if response.status_code == 204:\n",
    "#     print(f\"✅ Successfully deleted test notebook {notebook_id}\")\n",
    "# else:\n",
    "#     print(f\"⚠️ Failed to delete notebook: {response.text}\")\n",
    "\n",
    "print(f\"\\nNotebook ID for manual cleanup: {notebook_id}\")"
   ]
  }
 ],
 "metadata": {
  "kernelspec": {
   "display_name": "Python 3",
   "language": "python",
   "name": "python3"
  },
  "language_info": {
   "codemirror_mode": {
    "name": "ipython",
    "version": 3
   },
   "file_extension": ".py",
   "mimetype": "text/x-python",
   "name": "python",
   "nbconvert_exporter": "python",
   "pygments_lexer": "ipython3",
   "version": "3.12.0"
  }
 },
 "nbformat": 4,
 "nbformat_minor": 4
}
